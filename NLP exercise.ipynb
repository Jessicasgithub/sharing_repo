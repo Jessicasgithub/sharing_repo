{
 "cells": [
  {
   "attachments": {},
   "cell_type": "markdown",
   "metadata": {},
   "source": [
    "# Sentiment Analysis of Amazon Reviews\n",
    "## -\tan NLP exercise in Python\n",
    "\n",
    "\n",
    "### Introduction\n",
    "In this exercise, we are going to analyze Amazon fine food reviews and build text classification models to classify the text of the reviews into sentiment categories. I am using the Amazon fine food review dataset available [here]( https://www.kaggle.com/snap/amazon-fine-food-reviews), which contains 568,454 food reviews Amazon users left up to October 2012. We are going to implement these 3 main components of a text classification pipeline:\n",
    "1. Dataset Preparation\n",
    "2. Feature Engineering\n",
    "3. Model Training"
   ]
  },
  {
   "cell_type": "markdown",
   "metadata": {},
   "source": [
    "### 1. Dataset Preparation\n",
    "The first step is to load the dataset and perform basic pre-processing, such as tokenizing, removing stop words and other noise words. We also explore the sentiment distribution and find out what the most common n-grams are for positive and negative reviews. The dataset is then splitted into train and test sets to get ready for the next step."
   ]
  },
  {
   "cell_type": "code",
   "execution_count": 1,
   "metadata": {},
   "outputs": [],
   "source": [
    "# Before started: install and import all the libraries we need:\n",
    "import nltk\n",
    "import pandas as pd\n",
    "import matplotlib.pyplot as plt\n",
    "import re\n",
    "import warnings\n",
    "\n",
    "from nltk.tokenize import RegexpTokenizer\n",
    "from nltk.corpus import stopwords\n",
    "\n",
    "from sklearn import model_selection, preprocessing, linear_model, naive_bayes, metrics, svm\n",
    "from sklearn.feature_extraction.text import TfidfVectorizer, CountVectorizer\n",
    "from sklearn import ensemble"
   ]
  },
  {
   "cell_type": "code",
   "execution_count": 2,
   "metadata": {},
   "outputs": [
    {
     "name": "stdout",
     "output_type": "stream",
     "text": [
      "<class 'pandas.core.frame.DataFrame'>\n",
      "RangeIndex: 568454 entries, 0 to 568453\n",
      "Data columns (total 10 columns):\n",
      "Id                        568454 non-null int64\n",
      "ProductId                 568454 non-null object\n",
      "UserId                    568454 non-null object\n",
      "ProfileName               568438 non-null object\n",
      "HelpfulnessNumerator      568454 non-null int64\n",
      "HelpfulnessDenominator    568454 non-null int64\n",
      "Score                     568454 non-null int64\n",
      "Time                      568454 non-null int64\n",
      "Summary                   568427 non-null object\n",
      "Text                      568454 non-null object\n",
      "dtypes: int64(5), object(5)\n",
      "memory usage: 43.4+ MB\n"
     ]
    }
   ],
   "source": [
    "# load the dataset\n",
    "data_path = \"~/Documents/python_exercise/amazon-fine-food-reviews/Reviews.csv\"\n",
    "data = pd.read_csv(data_path)\n",
    "# show dataset info\n",
    "data.info()\n",
    "# to shorten run time, randomly select 10000 rows of data from the whole datast for this exercise\n",
    "data = data.sample(10000)"
   ]
  },
  {
   "cell_type": "code",
   "execution_count": 3,
   "metadata": {},
   "outputs": [
    {
     "data": {
      "image/png": "[encoded data removed]",
      "text/plain": [
       "<Figure size 432x288 with 1 Axes>"
      ]
     },
     "metadata": {
      "needs_background": "light"
     },
     "output_type": "display_data"
    }
   ],
   "source": [
    "# exploring the data\n",
    "# review score distribution\n",
    "data.Score.value_counts()\n",
    "Sentiment_count = data.groupby('Score').count()\n",
    "plt.bar(Sentiment_count.index.values, Sentiment_count['Text'])\n",
    "plt.xlabel('Review Score')\n",
    "plt.ylabel('Number of Review')\n",
    "plt.show()"
   ]
  },
  {
   "cell_type": "code",
   "execution_count": 4,
   "metadata": {},
   "outputs": [
    {
     "data": {
      "image/png": "[encoded data removed]",
      "text/plain": [
       "<Figure size 432x288 with 1 Axes>"
      ]
     },
     "metadata": {
      "needs_background": "light"
     },
     "output_type": "display_data"
    }
   ],
   "source": [
    "# label the data: add a column \"Label\" to category reviews to negtive, neutral, and positive\n",
    "# by categorizing score 4 and 5 to \"neg\", score 3 to \"neu\", and score 1 and 2 to \"pos\"\n",
    "data['Label'] = 'neu'\n",
    "data.loc[data['Score']>3,'Label']='pos'\n",
    "data.loc[data['Score']<3,'Label']='neg'\n",
    "\n",
    "# label distribution\n",
    "data.Label.value_counts()\n",
    "Sentiment_count=data.groupby('Label').count()\n",
    "plt.bar(Sentiment_count.index.values, Sentiment_count['Text'])\n",
    "plt.ylabel('Number of Review')\n",
    "plt.show()"
   ]
  },
  {
   "cell_type": "code",
   "execution_count": 5,
   "metadata": {},
   "outputs": [],
   "source": [
    "# pre-processing of the data, including: \n",
    "# removing URLs, line breakers, tokenizing the text, removing stop words\n",
    "tokenizer = RegexpTokenizer(r'\\w+')\n",
    "stop_words = stopwords.words('english')\n",
    "\n",
    "def process_text(reviews):\n",
    "    tokens = []\n",
    "    for line in reviews:\n",
    "        line = re.sub(r\"http\\S+\", \"\",line)\n",
    "        line = re.sub(\"<br />\", \"\",line)\n",
    "        toks = tokenizer.tokenize(line)\n",
    "        toks = [t.lower() for t in toks if t.lower() not in stop_words]\n",
    "        tokens.extend(toks)\n",
    "    return tokens"
   ]
  },
  {
   "cell_type": "code",
   "execution_count": 6,
   "metadata": {},
   "outputs": [
    {
     "data": {
      "text/plain": [
       "[(('local', 'grocery', 'store'), 47),\n",
       " (('would', 'highly', 'recommend'), 38),\n",
       " (('highly', 'recommend', 'product'), 34),\n",
       " (('5', 'hour', 'energy'), 30),\n",
       " (('goes', 'long', 'way'), 27),\n",
       " (('like', 'peanut', 'butter'), 25),\n",
       " (('health', 'food', 'store'), 23),\n",
       " (('fructose', 'corn', 'syrup'), 23),\n",
       " (('high', 'fructose', 'corn'), 22),\n",
       " (('would', 'recommend', 'anyone'), 22),\n",
       " (('decided', 'give', 'try'), 21),\n",
       " (('tried', 'many', 'different'), 20),\n",
       " (('chocolate', 'chip', 'cookies'), 20),\n",
       " (('amazon', 'subscribe', 'save'), 19),\n",
       " (('2', 'year', 'old'), 18),\n",
       " (('earl', 'grey', 'tea'), 18),\n",
       " (('great', 'cup', 'coffee'), 17),\n",
       " (('give', '5', 'stars'), 17),\n",
       " (('great', 'product', 'great'), 17),\n",
       " (('little', 'goes', 'long'), 17)]"
      ]
     },
     "execution_count": 6,
     "metadata": {},
     "output_type": "execute_result"
    }
   ],
   "source": [
    "# finding the most common n-grams (the combination of N words) for positive reviews and negative reviews\n",
    "# the most common n-grams for positive reviews\n",
    "pos_lines = list(data[data.Label == 'pos'].Text)\n",
    "pos_tokens = process_text(pos_lines)\n",
    "ngs = nltk.ngrams(pos_tokens,3)\n",
    "pos_freq = nltk.FreqDist(ngs)\n",
    "pos_freq.most_common(20)"
   ]
  },
  {
   "cell_type": "code",
   "execution_count": 7,
   "metadata": {},
   "outputs": [
    {
     "data": {
      "text/plain": [
       "[(('high', 'fructose', 'corn'), 12),\n",
       " (('fructose', 'corn', 'syrup'), 12),\n",
       " (('local', 'grocery', 'store'), 10),\n",
       " (('eating', 'real', 'food'), 8),\n",
       " (('stash', 'green', 'tea'), 7),\n",
       " (('12', 'ounce', 'pouches'), 7),\n",
       " (('ounce', 'pouches', 'pack'), 7),\n",
       " (('pouches', 'pack', '6'), 7),\n",
       " (('try', 'something', 'else'), 6),\n",
       " (('first', 'two', 'ingredients'), 6),\n",
       " (('got', 'bad', 'batch'), 6),\n",
       " (('non', 'organic', 'stash'), 6),\n",
       " (('organic', 'stash', 'green'), 6),\n",
       " (('really', 'looking', 'forward'), 6),\n",
       " (('back', 'drawing', 'board'), 6),\n",
       " (('pack', '6', 'href'), 6),\n",
       " (('6', 'href', 'naked'), 6),\n",
       " (('ounce', 'boxes', 'pack'), 6),\n",
       " (('tastes', 'nothing', 'like'), 5),\n",
       " (('5', 'hour', 'energy'), 5)]"
      ]
     },
     "execution_count": 7,
     "metadata": {},
     "output_type": "execute_result"
    }
   ],
   "source": [
    "# the most common n-grams for negative reviews\n",
    "neg_lines = list(data[data.Label == 'neg'].Text)\n",
    "neg_lines_new = [re.sub(r\"http\\S+\", \"\",line) for line in neg_lines]\n",
    "neg_tokens = process_text(neg_lines_new)\n",
    "ngs = nltk.ngrams(neg_tokens,3)\n",
    "neg_freq = nltk.FreqDist(ngs)\n",
    "neg_freq.most_common(20)"
   ]
  },
  {
   "cell_type": "code",
   "execution_count": 8,
   "metadata": {},
   "outputs": [],
   "source": [
    "# split the dataset into training and test datasets \n",
    "train_x, test_x, train_y, test_y = model_selection.train_test_split(data['Text'], data['Label'])\n",
    "\n",
    "# label encode the target variable \n",
    "encoder = preprocessing.LabelEncoder()\n",
    "train_y = encoder.fit_transform(train_y)\n",
    "test_y = encoder.fit_transform(test_y)"
   ]
  },
  {
   "cell_type": "markdown",
   "metadata": {},
   "source": [
    "### 2. Feature Engineering\n",
    "The next step is the Feature Engineering in which the raw dataset is transformed into flat features which can be used in a machine learning model. This step also includes the process of creating new features from the existing data."
   ]
  },
  {
   "cell_type": "code",
   "execution_count": 9,
   "metadata": {},
   "outputs": [],
   "source": [
    "# create a count vectorizer object \n",
    "count_vect = CountVectorizer(analyzer='word', token_pattern=r'\\w{1,}')\n",
    "count_vect.fit(data['Text'])\n",
    "\n",
    "# transform the training and testation data using count vectorizer object\n",
    "xtrain_count =  count_vect.transform(train_x)\n",
    "xtest_count =  count_vect.transform(test_x)"
   ]
  },
  {
   "cell_type": "code",
   "execution_count": 10,
   "metadata": {},
   "outputs": [],
   "source": [
    "# TF-IDF Vectors as features:\n",
    "# word level tf-idf\n",
    "tfidf_vect = TfidfVectorizer(analyzer='word', token_pattern=r'\\w{1,}', max_features=5000)\n",
    "tfidf_vect.fit(data['Text'])\n",
    "xtrain_tfidf =  tfidf_vect.transform(train_x)\n",
    "xtest_tfidf =  tfidf_vect.transform(test_x)\n",
    "\n",
    "# ngram level tf-idf \n",
    "tfidf_vect_ngram = TfidfVectorizer(analyzer='word', token_pattern=r'\\w{1,}', ngram_range=(2,3), max_features=5000)\n",
    "tfidf_vect_ngram.fit(data['Text'])\n",
    "xtrain_tfidf_ngram =  tfidf_vect_ngram.transform(train_x)\n",
    "xtest_tfidf_ngram =  tfidf_vect_ngram.transform(test_x)"
   ]
  },
  {
   "cell_type": "markdown",
   "metadata": {},
   "source": [
    "### 3. Model Building\n",
    "The final step is the Model Building step in which a machine learning model is trained on a labelled dataset."
   ]
  },
  {
   "cell_type": "code",
   "execution_count": 11,
   "metadata": {},
   "outputs": [],
   "source": [
    "# a function to train a model and and output accuracy score \n",
    "def train_model(classifier, feature_vector_train, label, feature_vector_test):\n",
    "    # fit the training dataset on the classifier\n",
    "    classifier.fit(feature_vector_train, label)\n",
    "    \n",
    "    # predict the labels on test dataset\n",
    "    predictions = classifier.predict(feature_vector_test)\n",
    "    \n",
    "    return metrics.accuracy_score(predictions, test_y)"
   ]
  },
  {
   "cell_type": "code",
   "execution_count": 12,
   "metadata": {},
   "outputs": [
    {
     "name": "stdout",
     "output_type": "stream",
     "text": [
      "Accuracy of Naive Bayes Model on Count Vectors is  81.32000000000001 %\n",
      "Accuracy of Naive Bayes Model on WordLevel TF-IDF is  77.88000000000001 %\n",
      "Accuracy of Naive Bayes model on N-Gram Vectors is  79.52 %\n"
     ]
    }
   ],
   "source": [
    "# Naive Bayes on Count Vectors\n",
    "accuracy = train_model(naive_bayes.MultinomialNB(), xtrain_count, train_y, xtest_count)\n",
    "print (\"Accuracy of Naive Bayes Model on Count Vectors is \", accuracy*100, \"%\")\n",
    "\n",
    "# Naive Bayes on Word Level TF IDF Vectors\n",
    "accuracy = train_model(naive_bayes.MultinomialNB(), xtrain_tfidf, train_y, xtest_tfidf)\n",
    "print (\"Accuracy of Naive Bayes Model on WordLevel TF-IDF is \", accuracy*100, \"%\")\n",
    "\n",
    "# Naive Bayes on Ngram Level TF IDF Vectors\n",
    "accuracy = train_model(naive_bayes.MultinomialNB(), xtrain_tfidf_ngram, train_y, xtest_tfidf_ngram)\n",
    "print (\"Accuracy of Naive Bayes model on N-Gram Vectors is \", accuracy*100, \"%\")"
   ]
  },
  {
   "cell_type": "code",
   "execution_count": 13,
   "metadata": {},
   "outputs": [
    {
     "name": "stdout",
     "output_type": "stream",
     "text": [
      "Accuracy of SVM model on Count Vectors is  77.56 %\n",
      "Accuracy of Random Forest model on Count Vectors is  79.03999999999999 %\n",
      "Accuracy of Random Forest model on WordLevel TF-IDF is  79.28 %\n"
     ]
    }
   ],
   "source": [
    "# ignore warning messages\n",
    "warnings.simplefilter('ignore')\n",
    "\n",
    "# SVM on Ngram Level TF IDF Vectors\n",
    "accuracy = train_model(svm.SVC(), xtrain_tfidf_ngram, train_y, xtest_tfidf_ngram)\n",
    "print (\"Accuracy of SVM model on Count Vectors is \", accuracy*100, \"%\")\n",
    "\n",
    "# RF on Count Vectors\n",
    "accuracy = train_model(ensemble.RandomForestClassifier(), xtrain_count, train_y, xtest_count)\n",
    "print (\"Accuracy of Random Forest model on Count Vectors is \", accuracy*100, \"%\")\n",
    "\n",
    "# RF on Word Level TF IDF Vectors\n",
    "accuracy = train_model(ensemble.RandomForestClassifier(), xtrain_tfidf, train_y, xtest_tfidf)\n",
    "print (\"Accuracy of Random Forest model on WordLevel TF-IDF is \", accuracy*100, \"%\")"
   ]
  },
  {
   "cell_type": "code",
   "execution_count": 15,
   "metadata": {},
   "outputs": [
    {
     "name": "stdout",
     "output_type": "stream",
     "text": [
      "Accuracy of Logistic Regression model on Count Vectors is  83.67999999999999 %\n",
      "Accuracy of Logistic Regression model on WordLevel TF-IDF is  81.52000000000001 %\n",
      "Accuracy of Logistic Regression model on N-Gram Vectors is  80.08 %\n"
     ]
    }
   ],
   "source": [
    "warnings.simplefilter('ignore')\n",
    "# Linear Classifier on Count Vectors\n",
    "accuracy = train_model(linear_model.LogisticRegression(), xtrain_count, train_y, xtest_count)\n",
    "print (\"Accuracy of Logistic Regression model on Count Vectors is \", accuracy*100, \"%\")\n",
    "\n",
    "# Linear Classifier on Word Level TF IDF Vectors\n",
    "accuracy = train_model(linear_model.LogisticRegression(), xtrain_tfidf, train_y, xtest_tfidf)\n",
    "print (\"Accuracy of Logistic Regression model on WordLevel TF-IDF is \", accuracy*100, \"%\")\n",
    "\n",
    "# Linear Classifier on Ngram Level TF IDF Vectors\n",
    "accuracy = train_model(linear_model.LogisticRegression(), xtrain_tfidf_ngram, train_y, xtest_tfidf_ngram)\n",
    "print (\"Accuracy of Logistic Regression model on N-Gram Vectors is \", accuracy*100, \"%\")"
   ]
  },
  {
   "cell_type": "markdown",
   "metadata": {},
   "source": [
    "### Summary\n",
    "In this exercise, we looked at how to prepare and explore a text dataset, including cleaning the data, finding most common n-grams, and creating training and validation dataset. We performed different types of feature engineering like Count Vector and TF-IDF, and finally trained a variety of classifiers like Naive Bayes/ Logistic regression/ SVM/ Random Forest. \n",
    "For future study, there are different ways to improve the performance of text classifiers, such as further text cleaning, combining different algorithmic classifiers, and tuning the model paramters."
   ]
  }
 ],
 "metadata": {
  "kernelspec": {
   "display_name": "Python 3",
   "language": "python",
   "name": "python3"
  },
  "language_info": {
   "codemirror_mode": {
    "name": "ipython",
    "version": 3
   },
   "file_extension": ".py",
   "mimetype": "text/x-python",
   "name": "python",
   "nbconvert_exporter": "python",
   "pygments_lexer": "ipython3",
   "version": "3.7.2"
  }
 },
 "nbformat": 4,
 "nbformat_minor": 2
}
